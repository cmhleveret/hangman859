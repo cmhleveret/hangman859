{
 "cells": [
  {
   "cell_type": "code",
   "execution_count": 7,
   "metadata": {},
   "outputs": [
    {
     "name": "stdout",
     "output_type": "stream",
     "text": [
      "Good guess!\n",
      "pineapple\n"
     ]
    }
   ],
   "source": [
    "import random\n",
    "\n",
    "list_of_fruits = ['apple', 'pear', 'banana', 'orange', 'pineapple']\n",
    "\n",
    "random_word_from_list = random.choice(list_of_fruits)\n",
    "\n",
    "single_letter_input = input('please enter a single letter')\n",
    "\n",
    "if len(single_letter_input) == 1 & single_letter_input.isalpha():\n",
    "    print('Good guess!')\n",
    "else:\n",
    "    print('Oops! That is not a valid input.\"')\n",
    "\n",
    "\n",
    "print(random_word_from_list)"
   ]
  }
 ],
 "metadata": {
  "kernelspec": {
   "display_name": "Python 3",
   "language": "python",
   "name": "python3"
  },
  "language_info": {
   "codemirror_mode": {
    "name": "ipython",
    "version": 3
   },
   "file_extension": ".py",
   "mimetype": "text/x-python",
   "name": "python",
   "nbconvert_exporter": "python",
   "pygments_lexer": "ipython3",
   "version": "3.12.0"
  }
 },
 "nbformat": 4,
 "nbformat_minor": 2
}
