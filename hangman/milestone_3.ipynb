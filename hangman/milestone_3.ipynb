{
 "cells": [
  {
   "cell_type": "code",
   "execution_count": 17,
   "metadata": {},
   "outputs": [
    {
     "name": "stdout",
     "output_type": "stream",
     "text": [
      "Success\n",
      "input x\n",
      "Sorry, x is not in the word. Try again.\n",
      "pineapple\n"
     ]
    }
   ],
   "source": [
    "import random\n",
    "\n",
    "list_of_fruits = ['apple', 'pear', 'banana', 'orange', 'pineapple']\n",
    "\n",
    "random_word_from_list = random.choice(list_of_fruits)\n",
    "\n",
    "\n",
    "\n",
    "def check_guess(single_letter_input):\n",
    "    single_letter_input = single_letter_input.lower()\n",
    "    print(f\"input {single_letter_input}\")\n",
    "\n",
    "    if single_letter_input in random_word_from_list:\n",
    "        print(f\"Good guess! {single_letter_input} is in the word.\")\n",
    "        return\n",
    "    else:\n",
    "        print(f\"Sorry, {single_letter_input} is not in the word. Try again.\")\n",
    "        return\n",
    "    \n",
    "def ask_for_input():\n",
    "    is_valid_input = False\n",
    "    input_string = ''\n",
    "    while(not is_valid_input):\n",
    "        input_string = input('please enter a single letter as a guess')\n",
    "        if len(single_letter_input) == 1 & single_letter_input.isalpha():\n",
    "            print(\"Success\")\n",
    "            is_valid_input = True\n",
    "        else:\n",
    "            print(\"Invalid letter. Please, enter a single alphabetical character.\")\n",
    "    return check_guess(input_string)\n",
    "\n",
    "ask_for_input()\n",
    "\n",
    "\n",
    "print(random_word_from_list)"
   ]
  }
 ],
 "metadata": {
  "kernelspec": {
   "display_name": "Python 3",
   "language": "python",
   "name": "python3"
  },
  "language_info": {
   "codemirror_mode": {
    "name": "ipython",
    "version": 3
   },
   "file_extension": ".py",
   "mimetype": "text/x-python",
   "name": "python",
   "nbconvert_exporter": "python",
   "pygments_lexer": "ipython3",
   "version": "3.12.0"
  }
 },
 "nbformat": 4,
 "nbformat_minor": 2
}
