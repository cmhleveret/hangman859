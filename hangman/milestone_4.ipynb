{
 "cells": [
  {
   "cell_type": "code",
   "execution_count": 23,
   "metadata": {},
   "outputs": [
    {
     "name": "stdout",
     "output_type": "stream",
     "text": [
      "Success\n",
      "input z\n",
      "Sorry, z is not in the word. Try again.\n",
      "You have 4 lives left.\n"
     ]
    }
   ],
   "source": [
    "import random\n",
    "\n",
    "list_of_fruits = ['apple', 'pear', 'banana', 'orange', 'pineapple']\n",
    "\n",
    "random_word_from_list = random.choice(list_of_fruits)\n",
    "\n",
    "num_lives = 5\n",
    "\n",
    "class Hangman():\n",
    "    def __init__(self,list_of_fruits, num_lives):\n",
    "        self.word_list = list_of_fruits\n",
    "        self.num_lives = num_lives\n",
    "        self.word = random.choice(list_of_fruits)\n",
    "        # self.word_guessed = ['_', '_', '_', '_', '_']\n",
    "        self.num_letters = len(self.word)\n",
    "        self.list_of_guesses = []\n",
    "        #list of underscores with same length as word\n",
    "        self.word_guessed = ['_' for char in self.word]\n",
    "\n",
    "    def check_guess(self, input_string):\n",
    "        input_string = input_string.lower()\n",
    "        print(f\"input {input_string}\")\n",
    "        if input_string in random_word_from_list:\n",
    "            print(f\"Good guess! {input_string} is in the word.\")\n",
    "            self.list_of_guesses.append(input_string)\n",
    "\n",
    "            for index, character in enumerate(self.word):\n",
    "                if input_string == self.word[index]:\n",
    "                    self.word_guessed[index] = character\n",
    "                    print(self.word_guessed)\n",
    "                \n",
    "            return\n",
    "        else:\n",
    "            print(f\"Sorry, {input_string} is not in the word. Try again.\")\n",
    "            self.list_of_guesses.append(input_string)\n",
    "            self.num_lives = self.num_lives - 1\n",
    "            print(f\"You have {self.num_lives} lives left.\")\n",
    "            return\n",
    "\n",
    "    def ask_for_input(self):\n",
    "        is_valid_input = False\n",
    "        input_string = ''\n",
    "        while(not is_valid_input):\n",
    "            input_string = input('please enter a single letter as a guess')\n",
    "            if len(input_string) != 1:\n",
    "                print(\"Invalid letter. Please, enter a single character.\")\n",
    "            elif not input_string.isalpha():\n",
    "                print(\"Invalid letter. Please, enter a alphabetical character.\")\n",
    "            elif input_string in self.list_of_guesses:\n",
    "                print(\"You already tried that letter!\")\n",
    "            else:\n",
    "                print(\"Success\")\n",
    "                is_valid_input = True\n",
    "                \n",
    "        return self.check_guess(input_string)\n",
    "\n",
    "\n",
    "hangman_game = Hangman(list_of_fruits, num_lives)\n",
    "hangman_game.ask_for_input()"
   ]
  }
 ],
 "metadata": {
  "kernelspec": {
   "display_name": "Python 3",
   "language": "python",
   "name": "python3"
  },
  "language_info": {
   "codemirror_mode": {
    "name": "ipython",
    "version": 3
   },
   "file_extension": ".py",
   "mimetype": "text/x-python",
   "name": "python",
   "nbconvert_exporter": "python",
   "pygments_lexer": "ipython3",
   "version": "3.12.0"
  }
 },
 "nbformat": 4,
 "nbformat_minor": 2
}
